{
 "cells": [
  {
   "cell_type": "markdown",
   "id": "89403ec7",
   "metadata": {},
   "source": [
    "# Capitulo 3 - Autovalores y autovectores"
   ]
  },
  {
   "cell_type": "code",
   "execution_count": 1,
   "id": "4d71f497",
   "metadata": {},
   "outputs": [
    {
     "name": "stderr",
     "output_type": "stream",
     "text": [
      "/usr/lib/python3/dist-packages/scipy/__init__.py:146: UserWarning: A NumPy version >=1.17.3 and <1.25.0 is required for this version of SciPy (detected version 1.26.4\n",
      "  warnings.warn(f\"A NumPy version >={np_minversion} and <{np_maxversion}\"\n"
     ]
    }
   ],
   "source": [
    "import numpy as np\n",
    "import scipy.linalg\n",
    "import matplotlib.pyplot as plt"
   ]
  },
  {
   "cell_type": "markdown",
   "id": "e1275f21",
   "metadata": {},
   "source": [
    "Calculamos los autovalores y autovectores de la matriz\n",
    "$$\n",
    "A = \\begin{pmatrix}\n",
    "2 & 3 \\\\\n",
    "2 & 1\n",
    "\\end{pmatrix}\n",
    "$$"
   ]
  },
  {
   "cell_type": "code",
   "execution_count": 43,
   "id": "fd6b31fb",
   "metadata": {},
   "outputs": [
    {
     "name": "stdout",
     "output_type": "stream",
     "text": [
      "[[1. 0.]\n",
      " [0. 1.]]\n"
     ]
    }
   ],
   "source": [
    "A = np.array([[2,3],[2,1]])\n",
    "Id = np.eye(2)\n",
    "print(Id)"
   ]
  },
  {
   "cell_type": "code",
   "execution_count": 3,
   "id": "3bff75cd",
   "metadata": {},
   "outputs": [
    {
     "data": {
      "text/plain": [
       "array([[-0.70710678],\n",
       "       [ 0.70710678]])"
      ]
     },
     "execution_count": 3,
     "metadata": {},
     "output_type": "execute_result"
    }
   ],
   "source": [
    "# Espacio de autovectores del autovalor lambda = -1\n",
    "scipy.linalg.null_space(A+Id)"
   ]
  },
  {
   "cell_type": "code",
   "execution_count": 4,
   "id": "6c05ca65",
   "metadata": {},
   "outputs": [
    {
     "data": {
      "text/plain": [
       "array([[0.83205029],\n",
       "       [0.5547002 ]])"
      ]
     },
     "execution_count": 4,
     "metadata": {},
     "output_type": "execute_result"
    }
   ],
   "source": [
    "# Espacio de autovectores del autovalor lambda = 4\n",
    "scipy.linalg.null_space(A-4*Id)"
   ]
  },
  {
   "cell_type": "code",
   "execution_count": 5,
   "id": "a00b4a57",
   "metadata": {},
   "outputs": [
    {
     "data": {
      "text/plain": [
       "EigResult(eigenvalues=array([ 4., -1.]), eigenvectors=array([[ 0.83205029, -0.70710678],\n",
       "       [ 0.5547002 ,  0.70710678]]))"
      ]
     },
     "execution_count": 5,
     "metadata": {},
     "output_type": "execute_result"
    }
   ],
   "source": [
    "# Autovalores y autovectores con el comando eig\n",
    "np.linalg.eig(A)"
   ]
  },
  {
   "cell_type": "code",
   "execution_count": 6,
   "id": "46749eee",
   "metadata": {},
   "outputs": [
    {
     "data": {
      "text/plain": [
       "array([ 4., -1.])"
      ]
     },
     "execution_count": 6,
     "metadata": {},
     "output_type": "execute_result"
    }
   ],
   "source": [
    "# Podemos usar también eigvals para los autovalores\n",
    "np.linalg.eigvals(A)"
   ]
  },
  {
   "cell_type": "code",
   "execution_count": 74,
   "id": "58645450",
   "metadata": {},
   "outputs": [
    {
     "name": "stdout",
     "output_type": "stream",
     "text": [
      "[[ 1  3]\n",
      " [-1  2]]\n",
      "<built-in method transpose of numpy.ndarray object at 0x7407d9bc3570>\n"
     ]
    }
   ],
   "source": [
    "# Matrices de cambios de base para llevar A a la forma diagonal\n",
    "C_BE = np.array([[1,3],[-1,2]])\n",
    "print(C_BE)\n",
    "print(C_BE)"
   ]
  },
  {
   "cell_type": "code",
   "execution_count": 80,
   "id": "71f978f1",
   "metadata": {},
   "outputs": [
    {
     "name": "stdout",
     "output_type": "stream",
     "text": [
      "[[-1.00000000e+00 -1.77635684e-15]\n",
      " [ 0.00000000e+00  4.00000000e+00]]\n"
     ]
    },
    {
     "data": {
      "text/plain": [
       "array([0.83205029, 0.5547002 ])"
      ]
     },
     "execution_count": 80,
     "metadata": {},
     "output_type": "execute_result"
    }
   ],
   "source": [
    "C_EB = np.linalg.inv(C_BE)\n",
    "B = C_EB @ A @ C_BE\n",
    "print(B)\n",
    "avec = np.linalg.eig(A)[1].T\n",
    "avec[0]"
   ]
  },
  {
   "cell_type": "code",
   "execution_count": 83,
   "id": "b962b34b-e4ad-4db8-ab9d-1f9d82cef38d",
   "metadata": {},
   "outputs": [],
   "source": [
    "def aproximacionAVal(A,k):\n",
    "    avec = np.linalg.eig(A)[1].T[0]\n",
    "    v0 = np.random.rand(np.shape(A)[0],1)\n",
    "    tol = 1e-6\n",
    "    for i in range(0,k):\n",
    "        v0 = A @ v0\n",
    "        v0 = v0/np.linalg.norm(v0,2)\n",
    "        dif = np.linalg.norm(v0-avec)\n",
    "        veces = []\n",
    "        veces.append(i)\n",
    "        array =  []\n",
    "        array= array.append(v0)\n",
    "        if dif < tol:\n",
    "            break\n",
    "    return (v0,avec,array,veces)\n"
   ]
  },
  {
   "cell_type": "code",
   "execution_count": 85,
   "id": "b4d8ca25-11ff-44c4-8136-325cb9515594",
   "metadata": {},
   "outputs": [
    {
     "data": {
      "text/plain": [
       "(array([[0.83205029],\n",
       "        [0.5547002 ]]),\n",
       " array([0.83205029, 0.5547002 ]))"
      ]
     },
     "execution_count": 85,
     "metadata": {},
     "output_type": "execute_result"
    }
   ],
   "source": [
    "b = aproximacionAVal(A,100)\n",
    "#los avecs estan columnas, el avec principal es el 4\n",
    "b"
   ]
  },
  {
   "cell_type": "code",
   "execution_count": 90,
   "id": "2d508376-11c2-4c66-8cb1-b18351ef459c",
   "metadata": {},
   "outputs": [
    {
     "data": {
      "text/plain": [
       "EigResult(eigenvalues=array([1.26135826, 0.80729364, 0.1313481 ]), eigenvectors=array([[-0.42513581, -0.86011793,  0.15147666],\n",
       "       [-0.90216423,  0.50992966, -0.98080898],\n",
       "       [-0.07320681,  0.01299583,  0.1227541 ]]))"
      ]
     },
     "execution_count": 90,
     "metadata": {},
     "output_type": "execute_result"
    }
   ],
   "source": [
    "np.linalg.eig(A)"
   ]
  },
  {
   "cell_type": "code",
   "execution_count": 99,
   "id": "10c2bdbe-e813-4542-892b-e908fefa1c1b",
   "metadata": {},
   "outputs": [],
   "source": [
    "#curva \n",
    "import pandas as pd"
   ]
  },
  {
   "cell_type": "code",
   "execution_count": null,
   "id": "783ee326-ccb7-4ae4-96ba-90e2275859fd",
   "metadata": {},
   "outputs": [],
   "source": []
  },
  {
   "cell_type": "markdown",
   "id": "bf48d43c",
   "metadata": {},
   "source": [
    "## Método de la potencia\n",
    "\n",
    "Para \n",
    "$$\n",
    "A = \\begin{pmatrix}\n",
    "0.9 & 0.15 & 0.25 \\\\\n",
    "0.075 & 0.8 &  0.25 \\\\\n",
    "0.025 & 0.05 & 0.5\n",
    "\\end{pmatrix}\n",
    "$$\n",
    "y $v = (1, 2, 3)$, calcular $A^k v$ para distintos valores de $k$."
   ]
  },
  {
   "cell_type": "code",
   "execution_count": 86,
   "id": "f7f3435d",
   "metadata": {},
   "outputs": [],
   "source": [
    "A = np.array([[0.9, 0.15, 0.25], [0.075, 0.8, 5.25], [0.025, 0.05, 0.5]])\n",
    "v = np.array([-1,20,15])"
   ]
  },
  {
   "cell_type": "code",
   "execution_count": 87,
   "id": "3ab3b38f",
   "metadata": {},
   "outputs": [
    {
     "data": {
      "text/plain": [
       "array([ 5.85 , 94.675,  8.475])"
      ]
     },
     "execution_count": 87,
     "metadata": {},
     "output_type": "execute_result"
    }
   ],
   "source": [
    "A @ v"
   ]
  },
  {
   "cell_type": "code",
   "execution_count": 88,
   "id": "733ac8f1",
   "metadata": {},
   "outputs": [
    {
     "data": {
      "text/plain": [
       "array([ 21.585 , 120.6725,   9.1175])"
      ]
     },
     "execution_count": 88,
     "metadata": {},
     "output_type": "execute_result"
    }
   ],
   "source": [
    "A @ A @ v"
   ]
  },
  {
   "cell_type": "code",
   "execution_count": 89,
   "id": "1d51fc7d",
   "metadata": {},
   "outputs": [],
   "source": [
    "def estado(A, v, k):\n",
    "    for i in range(k):\n",
    "        v = A @ v\n",
    "        print(v)\n",
    "    return(v)"
   ]
  },
  {
   "cell_type": "code",
   "execution_count": 35,
   "id": "9d0f0327",
   "metadata": {},
   "outputs": [
    {
     "name": "stdout",
     "output_type": "stream",
     "text": [
      "[ 5.85  94.675  8.475]\n",
      "[ 21.585  120.6725   9.1175]\n",
      "[ 39.80675 146.02375  11.132  ]\n",
      "[ 60.5126375  178.24750625  13.86235625]\n",
      "[ 84.66408875 219.91382313  17.35636938]\n",
      "[113.52384569 273.40180438  21.79047806]\n",
      "[148.62935129 341.63574175  27.40342539]\n",
      "[191.86263377 428.32377806  34.49923357]\n",
      "[245.5497455  538.1696962   43.46237153]\n",
      "[312.58581826 677.12943841  54.77841421]\n",
      "[396.59125575 852.73416171  69.06032448]\n",
      "[ 502.10733555 1074.49837709   87.08165172]\n",
      "[ 634.84177149 1354.43542337  109.8184281 ]\n",
      "[ 801.97751487 1707.7082191   138.50202951]\n",
      "[1012.56150363 2153.45054381  174.68586358]\n",
      "[1277.99440073 2715.80333162  220.32949657]\n",
      "[1612.64783455 3425.22210236  277.90477489]\n",
      "[2034.64256017 4320.12633762  350.52968842]\n",
      "[2566.8296769  5448.98012634  442.1372251 ]\n",
      "[3238.02803443 6872.9167586   557.68836079]\n",
      "[4084.58483498 8669.0494036   703.44071918]\n",
      "[ 5152.34394181 10934.64716122   887.28745065]\n",
      "[ 6499.12848448 13792.40264051  1119.18468193]\n",
      "[ 8197.87220259 17397.07632887  1411.6906851 ]\n",
      "[10340.56910294 21943.87757508  1780.64596406]\n",
      "[13043.25531992 27679.0360541   2246.03108836]\n",
      "[16452.29296813 34913.13620615  2833.04872988]\n",
      "[20752.29628471 44037.9367694   3573.48849945]\n",
      "[26176.12929651 55547.58625899  4507.44849531]\n",
      "[33017.51642954 70065.38330483  5685.50679302]\n",
      "[41646.94898056 88377.53103943  7171.46047249]\n",
      "[ 52531.74885654 111475.71348566   9045.78051273]\n",
      "[ 66261.37612192 140610.7996446   11409.96965206]\n",
      "[ 83579.35086944 177360.58359815  14392.05921131]\n",
      "[105423.51812504 223715.2290531   18153.5425573 ]\n",
      "[132976.83630983 282185.04552767  22898.12068443]\n",
      "[167731.4396791  355936.43273863  28882.73352634]\n",
      "[211569.44400357 448963.35518015  36431.47439208]\n",
      "[266864.87147826 566303.63300281  45953.14105514]\n",
      "[336612.21454464 714311.76230259  57963.37396467]\n",
      "[424588.60092673 901003.03924741  73112.58046108]\n",
      "[ 535558.34183644 1136487.6238881    92221.15721608]\n",
      "[ 675530.94054003 1433518.05013262  116323.91834835]\n",
      "[ 852086.53359301 1808179.83197546  146726.13519431]\n",
      "[1074786.3888286  2280762.56536997  185074.22253575]\n",
      "[1355690.69038518 2876858.69977082  233444.89925709]\n",
      "[1710011.65112655 3628749.48269527  294457.65187672]\n",
      "[2156937.32138737 4577153.13234346  371416.59135128]\n",
      "[2720670.70693797 5773429.90957307  468489.3853275 ]\n",
      "[3431740.46901201 7282363.50364818  590932.95581585]\n"
     ]
    },
    {
     "data": {
      "text/plain": [
       "array([3431740.46901201, 7282363.50364818,  590932.95581585])"
      ]
     },
     "execution_count": 35,
     "metadata": {},
     "output_type": "execute_result"
    }
   ],
   "source": [
    "estado(A, v, 50)"
   ]
  },
  {
   "cell_type": "code",
   "execution_count": 36,
   "id": "981db466",
   "metadata": {},
   "outputs": [
    {
     "data": {
      "text/plain": [
       "array([3.75 , 3.75 , 0.375])"
      ]
     },
     "execution_count": 36,
     "metadata": {},
     "output_type": "execute_result"
    }
   ],
   "source": [
    "w = np.array([3.75, 1.875, 0.375])\n",
    "A @ w"
   ]
  },
  {
   "cell_type": "code",
   "execution_count": 37,
   "id": "690acfb0",
   "metadata": {},
   "outputs": [
    {
     "name": "stdout",
     "output_type": "stream",
     "text": [
      "[1.26135826 0.80729364 0.1313481 ]\n"
     ]
    }
   ],
   "source": [
    "ev = np.linalg.eigvals(A)\n",
    "print(ev)"
   ]
  },
  {
   "cell_type": "code",
   "execution_count": 38,
   "id": "bc891ed2",
   "metadata": {},
   "outputs": [
    {
     "name": "stdout",
     "output_type": "stream",
     "text": [
      "[16.7863392  23.17024595 21.22304729]\n",
      "[19.76596387 39.70099934 44.33369097]\n",
      "[34.51299042 66.15486119 74.5454738 ]\n",
      "[ 57.56504395 111.51926216 126.23743745]\n",
      "[ 97.08560786 187.8772602  212.73070383]\n",
      "[163.56550716 316.60981617 358.53487107]\n",
      "[275.64318589 533.54241505 604.19817455]\n",
      "[ 464.50693341  899.1179465  1018.18911442]\n",
      "[ 782.78060478 1515.18013722 1715.83748119]\n",
      "[1319.13021804 2553.35940394 2891.50445425]\n",
      "[2222.97896644 4302.88389646 4872.72101761]\n",
      "[3746.13162121 7251.15699812 8211.43819588]\n",
      "[ 6312.92620963 12219.54369953 13837.79552902]\n",
      "[10638.45089989 20592.19629095 23319.25060294]\n",
      "[17927.76183385 34701.66796004 39297.25999456]\n",
      "[30211.60198918 58478.74321895 66223.16768979]\n",
      "[ 50912.14972701  98547.52262645 111598.31345676]\n",
      "[ 85796.40996043 166070.84354481 188063.84534083]\n",
      "[144582.85500746 279860.15620328 316922.44110914]\n",
      "[243648.91225345 471616.24134818 534073.06171235]\n",
      "[410593.58275381 794760.79096385 900012.11100282]\n",
      "[ 691926.29935995 1339319.25891238 1516687.24379143]\n",
      "[1166024.07795795 2257001.22312046 2555899.15664195]\n",
      "[1964966.71919446 3803465.44505304 4307163.87024706]\n",
      "[3311333.17101286 6409544.32967111 7258369.54754333]\n",
      "[ 5580210.22052991 10801270.34345811 12231698.1837244 ]\n",
      "[ 9403688.63450301 18202142.77829233 20612678.84994439]\n",
      "[15846958.52664199 30673984.74310067 34736184.86894134]\n",
      "[26705062.69462242 51691350.3800262  58536910.60890538]\n",
      "[45002981.00261606 87109507.50249793 98645545.46111876]\n",
      "[7.58383653e+07 1.46795668e+08 1.66236030e+08]\n",
      "[1.27801704e+08 2.47377912e+08 2.80138526e+08]\n",
      "[2.15369562e+08 4.16877639e+08 4.72085347e+08]\n",
      "[3.62937635e+08 7.02516098e+08 7.95551320e+08]\n",
      "[6.11617193e+08 1.18386985e+09 1.34065145e+09]\n",
      "[1.03068835e+09 1.99504016e+09 2.25924621e+09]\n",
      "[1.73690092e+09 3.36201249e+09 3.80724866e+09]\n",
      "[2.92700003e+09 5.66561426e+09 6.41591975e+09]\n",
      "[4.93253763e+09 9.54761028e+09 1.08120141e+10]\n",
      "[8.31224027e+09 1.60894932e+10 1.82202480e+10]\n",
      "[1.40076657e+10 2.71137785e+10 3.07044954e+10]\n",
      "[2.36055133e+10 4.56917430e+10 5.17427665e+10]\n",
      "[3.97796658e+10 7.69990569e+10 8.71961532e+10]\n",
      "[6.70361108e+10 1.29757684e+11 1.46941682e+11]\n",
      "[1.12968273e+11 2.18665751e+11 2.47623973e+11]\n",
      "[1.90372482e+11 3.68492325e+11 4.17292297e+11]\n",
      "[3.20812921e+11 6.20977876e+11 7.03214874e+11]\n",
      "[5.40629242e+11 1.04646283e+12 1.18504742e+12]\n",
      "[9.11060490e+11 1.76348386e+12 1.99702457e+12]\n",
      "[1.53530581e+12 2.97179720e+12 3.36535660e+12]\n",
      "[1.53530581e+12 2.97179720e+12 3.36535660e+12]\n"
     ]
    }
   ],
   "source": [
    "# Que pasa si cambiamos A por una matriz cualquiera?\n",
    "A = np.random.rand(3,3)\n",
    "print(estado(A, v, 50))"
   ]
  },
  {
   "cell_type": "code",
   "execution_count": 39,
   "id": "3cbca901",
   "metadata": {},
   "outputs": [],
   "source": [
    "# Modificamos el programa anterior, normalizando en norma-2 en cada paso\n",
    "def estado_normalizado(A, v, k):\n",
    "    for i in range(k):\n",
    "        v = A @ v\n",
    "        v = v / np.linalg.norm(v,2)\n",
    "        print(v)\n",
    "    return(v)"
   ]
  },
  {
   "cell_type": "code",
   "execution_count": 40,
   "id": "68dca4e0",
   "metadata": {},
   "outputs": [
    {
     "name": "stdout",
     "output_type": "stream",
     "text": [
      "[0.4712106  0.65041373 0.59575377]\n",
      "[0.31520459 0.63310533 0.70698211]\n",
      "[0.32721983 0.62721839 0.70677031]\n",
      "[0.32338805 0.62649125 0.70917479]\n",
      "[0.32365855 0.62633467 0.70918969]\n",
      "[0.32356384 0.62631474 0.70925051]\n",
      "[0.32356987 0.62631059 0.70925142]\n",
      "[0.32356752 0.62631005 0.70925297]\n",
      "[0.32356765 0.62630994 0.70925301]\n",
      "[0.32356759 0.62630993 0.70925305]\n",
      "[0.32356759 0.62630992 0.70925305]\n",
      "[0.32356759 0.62630992 0.70925305]\n",
      "[0.32356759 0.62630992 0.70925305]\n",
      "[0.32356759 0.62630992 0.70925305]\n",
      "[0.32356759 0.62630992 0.70925305]\n",
      "[0.32356759 0.62630992 0.70925305]\n",
      "[0.32356759 0.62630992 0.70925305]\n",
      "[0.32356759 0.62630992 0.70925305]\n",
      "[0.32356759 0.62630992 0.70925305]\n",
      "[0.32356759 0.62630992 0.70925305]\n",
      "[0.32356759 0.62630992 0.70925305]\n",
      "[0.32356759 0.62630992 0.70925305]\n",
      "[0.32356759 0.62630992 0.70925305]\n",
      "[0.32356759 0.62630992 0.70925305]\n",
      "[0.32356759 0.62630992 0.70925305]\n",
      "[0.32356759 0.62630992 0.70925305]\n",
      "[0.32356759 0.62630992 0.70925305]\n",
      "[0.32356759 0.62630992 0.70925305]\n",
      "[0.32356759 0.62630992 0.70925305]\n",
      "[0.32356759 0.62630992 0.70925305]\n",
      "[0.32356759 0.62630992 0.70925305]\n",
      "[0.32356759 0.62630992 0.70925305]\n",
      "[0.32356759 0.62630992 0.70925305]\n",
      "[0.32356759 0.62630992 0.70925305]\n",
      "[0.32356759 0.62630992 0.70925305]\n",
      "[0.32356759 0.62630992 0.70925305]\n",
      "[0.32356759 0.62630992 0.70925305]\n",
      "[0.32356759 0.62630992 0.70925305]\n",
      "[0.32356759 0.62630992 0.70925305]\n",
      "[0.32356759 0.62630992 0.70925305]\n",
      "[0.32356759 0.62630992 0.70925305]\n",
      "[0.32356759 0.62630992 0.70925305]\n",
      "[0.32356759 0.62630992 0.70925305]\n",
      "[0.32356759 0.62630992 0.70925305]\n",
      "[0.32356759 0.62630992 0.70925305]\n",
      "[0.32356759 0.62630992 0.70925305]\n",
      "[0.32356759 0.62630992 0.70925305]\n",
      "[0.32356759 0.62630992 0.70925305]\n",
      "[0.32356759 0.62630992 0.70925305]\n",
      "[0.32356759 0.62630992 0.70925305]\n"
     ]
    },
    {
     "data": {
      "text/plain": [
       "array([0.32356759, 0.62630992, 0.70925305])"
      ]
     },
     "execution_count": 40,
     "metadata": {},
     "output_type": "execute_result"
    }
   ],
   "source": [
    "estado_normalizado(A, v, 50)"
   ]
  },
  {
   "cell_type": "markdown",
   "id": "b5ed2a81",
   "metadata": {},
   "source": [
    "Repetir para la matriz\n",
    "$$\n",
    "A = \\begin{pmatrix}\n",
    "3 & 1 & 2 \\\\\n",
    "0 & 1 & -2 \\\\\n",
    "1 & 2 & 4\n",
    "\\end{pmatrix}\n",
    "$$ y $v = (1,2,3)$."
   ]
  },
  {
   "cell_type": "code",
   "execution_count": null,
   "id": "8155edfe",
   "metadata": {},
   "outputs": [],
   "source": [
    "A = -np.array([[3,1,2], [0,1,-2], [1,2,4]])\n",
    "v = np.array([1,2,3])\n",
    "v50 = estado_normalizado(A, v, 50)\n",
    "print(v50)"
   ]
  },
  {
   "cell_type": "code",
   "execution_count": null,
   "id": "c34e5e88",
   "metadata": {},
   "outputs": [],
   "source": [
    "np.linalg.eigvals(A)"
   ]
  },
  {
   "cell_type": "code",
   "execution_count": null,
   "id": "2e595c94",
   "metadata": {},
   "outputs": [],
   "source": [
    "np.linalg.norm(A@v50)"
   ]
  },
  {
   "cell_type": "code",
   "execution_count": null,
   "id": "e0d71fdb",
   "metadata": {},
   "outputs": [],
   "source": [
    "# Autovalores de A\n",
    "np.linalg.eigvals(A)"
   ]
  },
  {
   "cell_type": "code",
   "execution_count": null,
   "id": "5015cc31",
   "metadata": {},
   "outputs": [],
   "source": [
    "# Si introducimos una pequeña modificacion en A, la matriz resulta diagonalizable\n",
    "A = np.array([[1.0001,1,0],[0,0.999,1],[0,0,1]])\n",
    "np.linalg.eig(A)"
   ]
  },
  {
   "cell_type": "code",
   "execution_count": null,
   "id": "c050b3c5",
   "metadata": {},
   "outputs": [],
   "source": [
    "# Matriz diaogonalizable\n",
    "A = np.array([[-1,3,-1],[-3,5,-1],[-3,3,1]])\n",
    "np.linalg.eig(A)"
   ]
  },
  {
   "cell_type": "code",
   "execution_count": null,
   "id": "5b20922d",
   "metadata": {},
   "outputs": [],
   "source": [
    "# Usamos null space para calcular los autovectores\n",
    "A = np.array([[0,1,0],[0,0,1],[0,0,0]])\n",
    "scipy.linalg.null_space(A)"
   ]
  },
  {
   "cell_type": "markdown",
   "id": "81a21603",
   "metadata": {},
   "source": [
    "# Norma-2 de matrices"
   ]
  },
  {
   "cell_type": "code",
   "execution_count": null,
   "id": "7b7ab313",
   "metadata": {},
   "outputs": [],
   "source": [
    "# Graficamos 300 puntos al azar en la circunferencia de radio 1\n",
    "plt.figure(figsize=(6,6))\n",
    "for i in range(300):\n",
    "    p = np.random.rand()*2*np.pi\n",
    "    plt.scatter(np.cos(p), np.sin(p))"
   ]
  },
  {
   "cell_type": "code",
   "execution_count": null,
   "id": "95c885bf",
   "metadata": {},
   "outputs": [],
   "source": [
    "# Norma-2 para matrices simétricas\n",
    "A = np.array([[1,4], [4,-3]])\n",
    "\n",
    "# Tomamos 300 puntos al azar en la circunferencia y graficamos las imágenes\n",
    "plt.figure(figsize=(6,6))\n",
    "plt.xlim((-6,6))\n",
    "plt.ylim((-6,6))\n",
    "for i in range(300):\n",
    "    p = np.random.rand()*2*np.pi\n",
    "    v = np.array([np.cos(p), np.sin(p)])\n",
    "    Av = A @ v\n",
    "    plt.scatter(Av[0], Av[1])\n",
    "    "
   ]
  },
  {
   "cell_type": "code",
   "execution_count": null,
   "id": "389cb7a6",
   "metadata": {},
   "outputs": [],
   "source": [
    "# Agregamos los autovectores de A\n",
    "\n",
    "# Norma-2 para matrices simétricas\n",
    "A = np.array([[1,4], [4,-3]])\n",
    "\n",
    "# Tomamos 300 puntos al azar en la circunferencia y graficamos las imágenes\n",
    "plt.figure(figsize=(6,6))\n",
    "plt.xlim((-6,6))\n",
    "plt.ylim((-6,6))\n",
    "for i in range(300):\n",
    "    p = np.random.rand()*2*np.pi\n",
    "    v = np.array([np.cos(p), np.sin(p)])\n",
    "    Av = A @ v\n",
    "    plt.scatter(Av[0], Av[1])\n",
    "\n",
    "# Graficamos los autovectores de A\n",
    "e = np.linalg.eig(A)\n",
    "evec1 = e[1][0:2,0]*10\n",
    "evec2 = e[1][0:2,1]*10\n",
    "\n",
    "plt.arrow(0,0,evec1[0], evec1[1])\n",
    "plt.arrow(0,0,evec2[0], evec2[1])"
   ]
  },
  {
   "cell_type": "code",
   "execution_count": null,
   "id": "522fba51",
   "metadata": {},
   "outputs": [],
   "source": [
    "# Norma-2 para matrices en general\n",
    "A = np.array([[1,3], [-1,5]])\n",
    "\n",
    "# Tomamos 300 puntos al azar en la circunferencia y graficamos las imágenes\n",
    "plt.figure(figsize=(6,6))\n",
    "plt.xlim((-6,6))\n",
    "plt.ylim((-6,6))\n",
    "for i in range(300):\n",
    "    p = np.random.rand()*2*np.pi\n",
    "    v = np.array([np.cos(p), np.sin(p)])\n",
    "    Av = A @ v\n",
    "    plt.scatter(Av[0], Av[1])\n",
    "    \n",
    "# Graficamos los autovectores de A\n",
    "e = np.linalg.eig(A)\n",
    "evec1 = e[1][0:2,0]*10\n",
    "evec2 = e[1][0:2,1]*10\n",
    "\n",
    "plt.arrow(0,0,evec1[0], evec1[1])\n",
    "plt.arrow(0,0,evec2[0], evec2[1])    "
   ]
  },
  {
   "cell_type": "code",
   "execution_count": null,
   "id": "d4ff8e33",
   "metadata": {},
   "outputs": [],
   "source": [
    "# Agregamos las imágenes de los autovectores de A.T @ A\n",
    "\n",
    "# Norma-2\n",
    "A = np.array([[1,3], [-1,5]])\n",
    "\n",
    "# Tomamos 300 puntos al azar en la circunferencia y graficamos las imágenes\n",
    "plt.figure(figsize=(6,6))\n",
    "plt.xlim((-6,6))\n",
    "plt.ylim((-6,6))\n",
    "for i in range(300):\n",
    "    p = np.random.rand()*2*np.pi\n",
    "    v = np.array([np.cos(p), np.sin(p)])\n",
    "    Av = A @ v\n",
    "    plt.scatter(Av[0], Av[1])\n",
    "\n",
    "# Graficamos las imágenes de los autovectores de A.T @ A\n",
    "e = np.linalg.eig(A.T@A)\n",
    "evec1 = A@e[1][0:2,0]*10\n",
    "evec2 = A@e[1][0:2,1]*10\n",
    "\n",
    "plt.arrow(0,0,evec1[0], evec1[1])\n",
    "plt.arrow(0,0,evec2[0], evec2[1])\n"
   ]
  }
 ],
 "metadata": {
  "kernelspec": {
   "display_name": "Python 3 (ipykernel)",
   "language": "python",
   "name": "python3"
  },
  "language_info": {
   "codemirror_mode": {
    "name": "ipython",
    "version": 3
   },
   "file_extension": ".py",
   "mimetype": "text/x-python",
   "name": "python",
   "nbconvert_exporter": "python",
   "pygments_lexer": "ipython3",
   "version": "3.10.12"
  }
 },
 "nbformat": 4,
 "nbformat_minor": 5
}
